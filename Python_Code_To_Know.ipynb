{
  "cells": [
    {
      "cell_type": "markdown",
      "metadata": {
        "id": "view-in-github",
        "colab_type": "text"
      },
      "source": [
        "<a href=\"https://colab.research.google.com/github/laura-james/Python-Code_To-Know-GCSE/blob/main/Python_Code_To_Know.ipynb\" target=\"_parent\"><img src=\"https://colab.research.google.com/assets/colab-badge.svg\" alt=\"Open In Colab\"/></a>"
      ]
    },
    {
      "cell_type": "markdown",
      "source": [
        "## Displaying output\n",
        "In Python we use the `print()` function to display information to the user\n",
        "`print(\"Hello World\")`\n",
        "will display the words `\"Hello World\"` in the output"
      ],
      "metadata": {
        "id": "MHc8MuDGZDxW"
      }
    },
    {
      "cell_type": "code",
      "source": [
        "print(\"Hello World\") "
      ],
      "metadata": {
        "id": "D-VQgumBZbLX",
        "colab": {
          "base_uri": "https://localhost:8080/"
        },
        "outputId": "6c1855dc-69c1-4767-8fac-86a7efabbaf1"
      },
      "execution_count": null,
      "outputs": [
        {
          "output_type": "stream",
          "name": "stdout",
          "text": [
            "Hello World\n"
          ]
        }
      ]
    },
    {
      "cell_type": "markdown",
      "source": [
        "\n",
        "# Comments\n",
        "Comments are really useful when programming as you can leave reminders of what you have doen, messages to your self and other programmers about what you're trying to do.\n",
        "Good programmers always put comments in their code!\n",
        "\n"
      ],
      "metadata": {
        "id": "_9E7iYx4XZE6"
      }
    },
    {
      "cell_type": "code",
      "source": [
        "# This is a comment\n",
        "print(\"Hello World\")  # you can also add comments to the end of lines in Python"
      ],
      "metadata": {
        "id": "303YAljxXLe4",
        "colab": {
          "base_uri": "https://localhost:8080/"
        },
        "outputId": "9b87dcdc-c5b5-4e4e-c1a3-34e314f991db"
      },
      "execution_count": null,
      "outputs": [
        {
          "output_type": "stream",
          "name": "stdout",
          "text": [
            "Hello World\n"
          ]
        }
      ]
    },
    {
      "cell_type": "markdown",
      "metadata": {
        "id": "PfqXq9JVREO_"
      },
      "source": [
        "# Variables\n",
        "Variables are used to store data. They are given a name and programmers can use the name of the variable to represent the data that is stored in it\n",
        "\n",
        "* Variable names should be one word, not start with a number and not be a reserved word\n",
        "*` myname = \"Mrs James\"`\n",
        "* The variable name in this case is `myname`\n",
        "* The variable `myname` has the string Mrs James stored in it\n",
        "* The `=` sign is this case is an **assignment operator**"
      ]
    },
    {
      "cell_type": "markdown",
      "source": [
        "## Data types\n",
        "* Data types - string, integer, float and Boolean\n",
        "\n",
        "\n",
        "| Data type| Description                              |\n",
        "| ----------------  | ----------- |\n",
        "| String            | Characters typed in on a keyboard           |\n",
        "| Integers     | Whole numbers           |\n",
        "| Float   | Decimal numbers         |\n",
        "| Boolean| True or False          |\n",
        "\n",
        "* Four variables below have been assigned\n"
      ],
      "metadata": {
        "id": "qdzpEkQXXxZI"
      }
    },
    {
      "cell_type": "code",
      "execution_count": null,
      "metadata": {
        "colab": {
          "base_uri": "https://localhost:8080/"
        },
        "id": "SnmD11scQ1yM",
        "outputId": "537738b7-2775-4e11-e4c3-e01abb4b76a8"
      },
      "outputs": [
        {
          "output_type": "stream",
          "name": "stdout",
          "text": [
            "King Midas\n",
            "5\n",
            "10.3\n",
            "True\n"
          ]
        }
      ],
      "source": [
        "yourname = \"King Midas\"\n",
        "numchildren = 5\n",
        "weight = 10.3\n",
        "wearsglasses = True\n",
        "print(yourname)\n",
        "print(numchildren)\n",
        "print(weight)\n",
        "print(wearsglasses)"
      ]
    },
    {
      "cell_type": "markdown",
      "metadata": {
        "id": "FC735TP5SbHV"
      },
      "source": [
        "To print different data types together in one sentence you need to concatenate them using the `+` sign. Think of it like a piece of glue that sticks variables and strings together (Notice how the space between the firstname and lastname variables is added as a string `\" \"`)\n"
      ]
    },
    {
      "cell_type": "code",
      "execution_count": null,
      "metadata": {
        "colab": {
          "base_uri": "https://localhost:8080/"
        },
        "id": "0awDZ794SjS5",
        "outputId": "7bedf634-7bd2-465e-f42e-f0372a8a1317"
      },
      "outputs": [
        {
          "output_type": "stream",
          "name": "stdout",
          "text": [
            "Hello Bob Smith, nice to meet you!\n"
          ]
        }
      ],
      "source": [
        "firstname = \"Bob\"\n",
        "lastname = \"Smith\"\n",
        "print(\"Hello \" + firstname + \" \" + lastname + \", nice to meet you!\")"
      ]
    },
    {
      "cell_type": "markdown",
      "metadata": {
        "id": "IrYL6SstREeO"
      },
      "source": [
        "You will get an error if you try to concatenate a string and an integer.\n",
        "This is because Python gets confused with the `+` operator - it's not sure if it should be sticking the text and number together or trying to add them!\n"
      ]
    },
    {
      "cell_type": "code",
      "execution_count": null,
      "metadata": {
        "colab": {
          "base_uri": "https://localhost:8080/",
          "height": 200
        },
        "id": "hX_r6KUmTzIU",
        "outputId": "1428abfa-4301-4331-f1da-0bc4701b6efc"
      },
      "outputs": [
        {
          "output_type": "error",
          "ename": "TypeError",
          "evalue": "ignored",
          "traceback": [
            "\u001b[0;31m---------------------------------------------------------------------------\u001b[0m",
            "\u001b[0;31mTypeError\u001b[0m                                 Traceback (most recent call last)",
            "\u001b[0;32m<ipython-input-6-4b1da14074a5>\u001b[0m in \u001b[0;36m<cell line: 3>\u001b[0;34m()\u001b[0m\n\u001b[1;32m      1\u001b[0m \u001b[0mname\u001b[0m \u001b[0;34m=\u001b[0m \u001b[0;34m\"Susan\"\u001b[0m\u001b[0;34m\u001b[0m\u001b[0;34m\u001b[0m\u001b[0m\n\u001b[1;32m      2\u001b[0m \u001b[0mage\u001b[0m \u001b[0;34m=\u001b[0m \u001b[0;36m21\u001b[0m\u001b[0;34m\u001b[0m\u001b[0;34m\u001b[0m\u001b[0m\n\u001b[0;32m----> 3\u001b[0;31m \u001b[0mprint\u001b[0m\u001b[0;34m(\u001b[0m\u001b[0;34m\"Hi \"\u001b[0m \u001b[0;34m+\u001b[0m \u001b[0mname\u001b[0m \u001b[0;34m+\u001b[0m \u001b[0;34m\" you are \"\u001b[0m \u001b[0;34m+\u001b[0m \u001b[0mage\u001b[0m\u001b[0;34m)\u001b[0m\u001b[0;34m\u001b[0m\u001b[0;34m\u001b[0m\u001b[0m\n\u001b[0m",
            "\u001b[0;31mTypeError\u001b[0m: can only concatenate str (not \"int\") to str"
          ]
        }
      ],
      "source": [
        "name = \"Susan\"\n",
        "age = 21\n",
        "print(\"Hi \" + name + \" you are \" + age)"
      ]
    },
    {
      "cell_type": "markdown",
      "metadata": {
        "id": "epEHWiy_T87-"
      },
      "source": [
        "You have to convert the integer into a string in order to be able to display it in a sentence. This is called **casting**\n",
        "* To cast a variable into a string use the `str()` function (see below)\n",
        "* To cast a variable into an integer use `int()`\n",
        "* To cast a variable into a float use `float()`\n",
        "* To cast a variable into a Boolean use `bool()`"
      ]
    },
    {
      "cell_type": "code",
      "execution_count": null,
      "metadata": {
        "id": "k3aB0UNmUNJm"
      },
      "outputs": [],
      "source": [
        "name = \"Susan\"\n",
        "age = 21\n",
        "print(\"Hi \" + name + \" you are \" + str(age))"
      ]
    },
    {
      "cell_type": "markdown",
      "metadata": {
        "id": "05iegg8iUoq5"
      },
      "source": [
        "An example of where you will need to convert a string to an integer (or float) is when you ask a user for some input. \n",
        "The `input()` function will always return (send back) a string value. Therefore you will always need to convert it into a number (either int or float) **before** you try and do any mathematical operation with it.\n",
        "Try this by running the code below and entering integer values, then decimal values then invalid text values. \n",
        "What do you notice?"
      ]
    },
    {
      "cell_type": "code",
      "execution_count": null,
      "metadata": {
        "id": "NqGldyMIVJE0"
      },
      "outputs": [],
      "source": [
        "num1 = input(\"Enter first number \")\n",
        "num2 = input(\"Enter second number \")\n",
        "print(int(num1) + int(num2))"
      ]
    },
    {
      "cell_type": "markdown",
      "metadata": {
        "id": "cgoD0KakKFpR"
      },
      "source": [
        "# Arithmetic operators\n",
        "You can perform many arithmetic operations on numbers in Python\n",
        "\n",
        "| Description       | Symbol      |\n",
        "| ----------------  | ----------- |\n",
        "| Addition         | +         |\n",
        "| Subtraction      | -           |\n",
        "| Multiplication   | *          |\n",
        "| Division| /          |\n",
        "| Integer Division   (Divides but ignores remainder)       | //          |\n",
        "| Modulus (remainder)      | %          |\n",
        "| Exponent (to the power of) | ** |"
      ]
    },
    {
      "cell_type": "code",
      "execution_count": null,
      "metadata": {
        "id": "Nx0sZDcyKR7z",
        "colab": {
          "base_uri": "https://localhost:8080/"
        },
        "outputId": "bf173c6a-0a7d-44c3-cf6c-6eda6a0fd366"
      },
      "outputs": [
        {
          "output_type": "stream",
          "name": "stdout",
          "text": [
            "Enter first number 20\n",
            "Enter second number 5\n",
            "25\n",
            "15\n",
            "100\n",
            "4.0\n",
            "4\n",
            "0\n",
            "3200000\n"
          ]
        }
      ],
      "source": [
        "num1 = input(\"Enter first number \")\n",
        "num2 = input(\"Enter second number \")\n",
        "print(int(num1) + int(num2))\n",
        "print(int(num1) - int(num2))\n",
        "print(int(num1) * int(num2))\n",
        "print(int(num1) / int(num2))\n",
        "print(int(num1) // int(num2))\n",
        "print(int(num1) % int(num2))\n",
        "print(int(num1) ** int(num2))"
      ]
    },
    {
      "cell_type": "markdown",
      "source": [
        "The modulus operator is often used to check if a number is even or odd. If a number is even, then dividing it by 2 will result in a remainder of 0\n",
        "e.g\n",
        "`num % 2 `will equal `0`"
      ],
      "metadata": {
        "id": "IE7XJu1apsbG"
      }
    },
    {
      "cell_type": "markdown",
      "metadata": {
        "id": "TZQqvk5kKjoM"
      },
      "source": [
        "# Comparison operators\n",
        "The following operators allow you to compare different values. They will return a True or False - which can be useful in an `if` statement (see later)\n",
        "\n",
        "| Description       | Symbol      |\n",
        "| ----------------  | ----------- |\n",
        "| Less Than         | <           |\n",
        "| Greater Than      | >           |\n",
        "| Less Than or Eq   | <=          |\n",
        "| Greater Than or Eq| >=          |\n",
        "| Equal To          | ==          |\n",
        "| Not Equal To      | !=          |"
      ]
    },
    {
      "cell_type": "code",
      "execution_count": null,
      "metadata": {
        "id": "dCvqPJzxKnMI"
      },
      "outputs": [],
      "source": [
        "num1 = input(\"Enter first number \")\n",
        "num2 = input(\"Enter second number \")\n",
        "print(int(num1) < int(num2))\n",
        "print(int(num1) > int(num2))"
      ]
    },
    {
      "cell_type": "markdown",
      "source": [
        "# Boolean Operators (And and Or)\n",
        "You can combine comparison operator by using the `and` and `or` operators\n",
        "\n",
        "Can you get two numbers that will both print out True?\n",
        "Can you get two numbers that will both print out False?"
      ],
      "metadata": {
        "id": "lwOoBeXpbrWC"
      }
    },
    {
      "cell_type": "code",
      "source": [
        "num1 = input(\"Enter first number \")\n",
        "num2 = input(\"Enter second number \")\n",
        "print(int(num1) < int(num2) and int(num1) > 10) #is the first number less than the second and is it bigger than 10?\n",
        "print(int(num1) <=  1 or int(num1) >= 10) #is the first number less than or equal to 1 or bigger than or equal to 10"
      ],
      "metadata": {
        "id": "oA-OU1EZqEtl"
      },
      "execution_count": null,
      "outputs": []
    },
    {
      "cell_type": "markdown",
      "metadata": {
        "id": "eOX-33YZK842"
      },
      "source": [
        "# If statements\n",
        "This is the main way of choosing different instructions to run based on different criteria.\n",
        "\n",
        "**INDENTATION MATTERS!**\n",
        "\n",
        "Notice how the line (or lines) that are in the block of code that runs when the if statement is True are tabbed in from the margin. You can do this easily by pressing the Tab button (rather than two spaces)\n"
      ]
    },
    {
      "cell_type": "code",
      "execution_count": null,
      "metadata": {
        "id": "QDuZLvRUW3t8"
      },
      "outputs": [],
      "source": [
        "name = input(\"What is your name? \")\n",
        "if name == \"Bob\":\n",
        "    print(\"Welcome back Bob\")"
      ]
    },
    {
      "cell_type": "markdown",
      "metadata": {
        "id": "DG5s3nwoW3t8"
      },
      "source": [
        "If you want to display something else if the user isn't Bob then you need an `else` block"
      ]
    },
    {
      "cell_type": "code",
      "execution_count": null,
      "metadata": {
        "id": "itKxsCfiW3t8"
      },
      "outputs": [],
      "source": [
        "name = input(\"What is your name? \")\n",
        "if name == \"Bob\":\n",
        "    print(\"Welcome back Bob\")\n",
        "else:\n",
        "    print(\"You're not Bob - go away!\")"
      ]
    },
    {
      "cell_type": "markdown",
      "metadata": {
        "id": "-vOhWK1fW3t9"
      },
      "source": [
        "You can make if statements have multiple criteria with the same outcome using the Boolean keywords `or` and `and`"
      ]
    },
    {
      "cell_type": "code",
      "execution_count": null,
      "metadata": {
        "id": "gTdPy5MvW3t9"
      },
      "outputs": [],
      "source": [
        "name = input(\"What is your name? \")\n",
        "if name == \"Bob\" or name == \"Susan\":\n",
        "    print(\"My best friends! Nice to see you\")\n",
        "else:\n",
        "    print(\"You're not my friend - go away!\")"
      ]
    },
    {
      "cell_type": "markdown",
      "metadata": {
        "id": "EsccD_WrW3t9"
      },
      "source": [
        "You can make if statements have multiple criteria with the different outcomes using the `elif` keyword (which stands for else if) \n",
        "\n",
        "You can have multiple elifs in one if statement.\n",
        "Note - the `elifs` MUST go before the `else`"
      ]
    },
    {
      "cell_type": "code",
      "execution_count": null,
      "metadata": {
        "id": "TRfZpjosW3t-"
      },
      "outputs": [],
      "source": [
        "name = input(\"What is your name? \")\n",
        "if name == \"Bob\":\n",
        "    print(\"Welcome back Bob\")\n",
        "elif name == \"Susan\":\n",
        "    print(\"Welcome back Susan\")\n",
        "else:\n",
        "    print(\"You're not my friend - go away!\")"
      ]
    },
    {
      "cell_type": "markdown",
      "metadata": {
        "id": "3Jwqp_QWK-38"
      },
      "source": [
        "# For Loops\n"
      ]
    },
    {
      "cell_type": "markdown",
      "source": [
        "A for loop is also called a \"count controlled loop\" as it will run for a certain number of times. Eg in the example below Hello is printed 5 times"
      ],
      "metadata": {
        "id": "vU37fRdjF6LZ"
      }
    },
    {
      "cell_type": "code",
      "source": [
        "for i in range(5):\n",
        "  print(\"Hello\")"
      ],
      "metadata": {
        "id": "rS4nogUcF2FC",
        "colab": {
          "base_uri": "https://localhost:8080/"
        },
        "outputId": "54f62a97-ba8e-434b-bafb-c301cf93b6da"
      },
      "execution_count": null,
      "outputs": [
        {
          "output_type": "stream",
          "name": "stdout",
          "text": [
            "Hello\n",
            "Hello\n",
            "Hello\n",
            "Hello\n",
            "Hello\n"
          ]
        }
      ]
    },
    {
      "cell_type": "markdown",
      "source": [
        "The i in a for loop is a free variable which goes up (incremented) by 1 on each loop. The variable doesn't have to be called i. And you can print out out as shown below. NOTE: the counter starts at 0 and doesn't go all the way up to the number in brackets - In this case it prints out from 0 up to 9 butnot including 10"
      ],
      "metadata": {
        "id": "3L8Tx7c6GH3Z"
      }
    },
    {
      "cell_type": "code",
      "source": [
        "for count in range(10):\n",
        "  print(count)"
      ],
      "metadata": {
        "id": "5mJjDIFhGVlZ",
        "colab": {
          "base_uri": "https://localhost:8080/"
        },
        "outputId": "c29ad670-7ccd-4d28-c64e-5b58008c0530"
      },
      "execution_count": null,
      "outputs": [
        {
          "output_type": "stream",
          "name": "stdout",
          "text": [
            "0\n",
            "1\n",
            "2\n",
            "3\n",
            "4\n",
            "5\n",
            "6\n",
            "7\n",
            "8\n",
            "9\n"
          ]
        }
      ]
    },
    {
      "cell_type": "markdown",
      "source": [
        "You can specify which number its starts from by adding two numbers to the range"
      ],
      "metadata": {
        "id": "mBlL19NmGqU5"
      }
    },
    {
      "cell_type": "code",
      "source": [
        "for count in range(3,10):\n",
        "  print(count)"
      ],
      "metadata": {
        "id": "mRYM2sSRGxxo",
        "colab": {
          "base_uri": "https://localhost:8080/"
        },
        "outputId": "d141b6b2-2e5c-422d-fbaa-92c1e6dc4199"
      },
      "execution_count": null,
      "outputs": [
        {
          "output_type": "stream",
          "name": "stdout",
          "text": [
            "3\n",
            "4\n",
            "5\n",
            "6\n",
            "7\n",
            "8\n",
            "9\n"
          ]
        }
      ]
    },
    {
      "cell_type": "markdown",
      "source": [
        "You can also make the counter go up in steps other than 1, eg 5 - see below"
      ],
      "metadata": {
        "id": "Gv6pLPW2G05A"
      }
    },
    {
      "cell_type": "code",
      "source": [
        "for count in range(5,100, 5):\n",
        "  print(count)"
      ],
      "metadata": {
        "id": "Nik24W8EG7f4",
        "colab": {
          "base_uri": "https://localhost:8080/"
        },
        "outputId": "b1efe86a-c3b9-4a8e-dd9f-c8705c3f7c94"
      },
      "execution_count": null,
      "outputs": [
        {
          "output_type": "stream",
          "name": "stdout",
          "text": [
            "5\n",
            "10\n",
            "15\n",
            "20\n",
            "25\n",
            "30\n",
            "35\n",
            "40\n",
            "45\n",
            "50\n",
            "55\n",
            "60\n",
            "65\n",
            "70\n",
            "75\n",
            "80\n",
            "85\n",
            "90\n",
            "95\n"
          ]
        }
      ]
    },
    {
      "cell_type": "code",
      "source": [
        "#ANother way of using a for loop WITHOUT a free i counter variable is shown below\n",
        "#this is a quicker way of iterating through a list of items\n",
        "\n",
        "mylist = [\"red\",\"green\",\"blue\",\"yellow\"]\n",
        "for colour in mylist:\n",
        "  #colour will be assigned to each item in the list\n",
        "  print(\"My favourite colour is \" + colour)"
      ],
      "metadata": {
        "id": "C2A93xdERft4",
        "colab": {
          "base_uri": "https://localhost:8080/"
        },
        "outputId": "bf814b98-70ca-4c21-9129-e534f127d54b"
      },
      "execution_count": null,
      "outputs": [
        {
          "output_type": "stream",
          "name": "stdout",
          "text": [
            "My favourite colour is red\n",
            "My favourite colour is green\n",
            "My favourite colour is blue\n",
            "My favourite colour is yellow\n"
          ]
        }
      ]
    },
    {
      "cell_type": "markdown",
      "metadata": {
        "id": "fl_8NFLdLA8N"
      },
      "source": [
        "# While Loops"
      ]
    },
    {
      "cell_type": "code",
      "source": [
        "password = input(\"What is your password?\")\n",
        "while password != \"cake\":\n",
        "  print(\"Incorrect password!\")\n",
        "  password = input(\"What is your password?\")\n",
        "\n",
        "print(\"You are now logged in!\")"
      ],
      "metadata": {
        "id": "OmU29gXvKwsN",
        "colab": {
          "base_uri": "https://localhost:8080/"
        },
        "outputId": "5eedd84e-83e4-42b6-e4ae-708fa42c2147"
      },
      "execution_count": null,
      "outputs": [
        {
          "output_type": "stream",
          "name": "stdout",
          "text": [
            "What is your password?dog\n",
            "Incorrect password!\n",
            "What is your password?cat\n",
            "Incorrect password!\n",
            "What is your password?cake\n",
            "You are now logged in!\n"
          ]
        }
      ]
    },
    {
      "cell_type": "markdown",
      "metadata": {
        "id": "IrPk2i0zLN__"
      },
      "source": [
        "# Arrays / Lists\n"
      ]
    },
    {
      "cell_type": "code",
      "source": [
        "pets = [\"cat\",\"dog\",\"hamster\",\"snake\"]\n",
        "print(pets) # prints whole list\n",
        "print(pets[0]) #prints first item\n",
        "print(pets[1]) #prints second item\n",
        "print(pets[-1]) #prints last item\n",
        "print(len(pets)) #prints how many items"
      ],
      "metadata": {
        "id": "ZgNMsXMJK_40",
        "colab": {
          "base_uri": "https://localhost:8080/"
        },
        "outputId": "dc9ae470-1f73-40db-db5e-47e6d1c02c14"
      },
      "execution_count": null,
      "outputs": [
        {
          "output_type": "stream",
          "name": "stdout",
          "text": [
            "['cat', 'dog', 'hamster', 'snake']\n",
            "cat\n",
            "dog\n",
            "snake\n",
            "4\n"
          ]
        }
      ]
    },
    {
      "cell_type": "markdown",
      "metadata": {
        "id": "FSMW5_KmLQGX"
      },
      "source": [
        "# Working with Strings"
      ]
    },
    {
      "cell_type": "code",
      "source": [
        "firstname = \"Homer\"\n",
        "lastname = \"Simpson\"\n",
        "print(firstname + lastname) #the + glues the strings together - called concatenation\n",
        "print(firstname[0]) # prints first letter of firstname\n",
        "print(firstname[0:2]) # prints first TWO letters of firstname\n",
        "print(firstname[2:6]) # prints the substring starting at pos 2 and finishing at pos 6 (exclusive)\n",
        "print(firstname[:-1]) # prints everything but last letter\n",
        "print(len(firstname))#prints num characters in firstname\n",
        "print(firstname.replace(\"o\",\"X\")) #replaces all \"o\" with \"X\"\n",
        "print(firstname.split(\"m\")) # returns an ARRAY of strings split on a character - useful"
      ],
      "metadata": {
        "id": "KfXxQWrXLd-M",
        "colab": {
          "base_uri": "https://localhost:8080/"
        },
        "outputId": "3b6da760-313d-4d1e-8d12-88c43d07f31f"
      },
      "execution_count": null,
      "outputs": [
        {
          "output_type": "stream",
          "name": "stdout",
          "text": [
            "HomerSimpson\n",
            "H\n",
            "Ho\n",
            "mer\n",
            "Home\n",
            "5\n",
            "HXmer\n",
            "['Ho', 'er']\n"
          ]
        }
      ]
    },
    {
      "cell_type": "markdown",
      "metadata": {
        "id": "a2A8JNTzLVVB"
      },
      "source": [
        "# Creating our own subroutines\n"
      ]
    },
    {
      "cell_type": "code",
      "source": [
        "# a simple procedure\n",
        "def sayHello():\n",
        "  print(\"Hello!\")\n",
        "  print(\"Hello!\")\n",
        "\n",
        "#the procedure above does nothing until it is called\n",
        "sayHello()"
      ],
      "metadata": {
        "id": "QuSSWEYRMrMD",
        "colab": {
          "base_uri": "https://localhost:8080/"
        },
        "outputId": "f07069ff-93f0-4624-9b55-e9b3114ee522"
      },
      "execution_count": null,
      "outputs": [
        {
          "output_type": "stream",
          "name": "stdout",
          "text": [
            "Hello!\n",
            "Hello!\n"
          ]
        }
      ]
    },
    {
      "cell_type": "markdown",
      "source": [
        "##Parameters\n",
        "Parameters are values passed to a subroutine. These can be different each time the subprogram is called.\n",
        "\n",
        "Multiple parameters are separated by commas"
      ],
      "metadata": {
        "id": "Q0WmN8xEPH-p"
      }
    },
    {
      "cell_type": "code",
      "source": [
        "# a simple procedure with a parameter\n",
        "#num is a variable that is passed to the function\n",
        "def sayHelloANumberOfTimes(num):\n",
        "  for i in range(num):\n",
        "    print(\"Hello\")\n",
        "\n",
        "#calling the function with a parameter of 5 should make it say Hello 5 times\n",
        "sayHelloANumberOfTimes(5)"
      ],
      "metadata": {
        "id": "kH12TtRYNIsR",
        "colab": {
          "base_uri": "https://localhost:8080/"
        },
        "outputId": "56d4fa47-c358-4ab1-8842-06687698f6a8"
      },
      "execution_count": null,
      "outputs": [
        {
          "output_type": "stream",
          "name": "stdout",
          "text": [
            "Hello\n",
            "Hello\n",
            "Hello\n",
            "Hello\n",
            "Hello\n"
          ]
        }
      ]
    },
    {
      "cell_type": "markdown",
      "source": [
        "##Functions\n",
        "Functions are special subprograms that are said to \"return\" a value to the calling program. They can be used inside the main program as a value themselves. They are very powerful - but often misunderstood"
      ],
      "metadata": {
        "id": "g9ESHE0UPbwp"
      }
    },
    {
      "cell_type": "code",
      "source": [
        "def getSalePrice(price):\n",
        "  newprice = price * 0.9 # take 10% off\n",
        "  return newprice  # the return statement returns a value to the calling program\n",
        "\n",
        "yourprice = float(input(\"how much was the item before discount? \"))\n",
        "delivery = 4.99\n",
        "#now you can use the function as a value in a calculation\n",
        "totalprice = getSalePrice(yourprice) + delivery\n",
        "print(\"\\nThe total cost (inc. delivery) is £\"+str(totalprice))"
      ],
      "metadata": {
        "id": "-v6BzWrkODtC",
        "colab": {
          "base_uri": "https://localhost:8080/"
        },
        "outputId": "4ab21e9a-7341-46f8-ae2c-8e2ff7e83f04"
      },
      "execution_count": null,
      "outputs": [
        {
          "output_type": "stream",
          "name": "stdout",
          "text": [
            "how much was the item before discount? 20\n",
            "\n",
            "The total cost (inc. delivery) is £22.990000000000002\n"
          ]
        }
      ]
    },
    {
      "cell_type": "markdown",
      "source": [
        "# Two D Arrays\n"
      ],
      "metadata": {
        "id": "zUkI9QOVr61W"
      }
    },
    {
      "cell_type": "code",
      "source": [
        "### 2d array (an array of arrays - can be thought of as rows and columns)\n",
        "games2 = [\n",
        "  [\"Fornite\",\"Minecraft\",\"Rocket\",\"COD\",\"FIFA\",\"CSGO\"],\n",
        "  [\"Anna\",\"Kylo\",\"Darius\",\"Christian\",\"Ben\",\"Matthew\"],\n",
        "  [ 120,    34,      45,        67,       999,    348]\n",
        "]\n",
        "print(games2[1][0]) #prints 1st item in 2nd row\n",
        "print(len(games2[0])) #prints number of columns\n",
        "total = 0 #initialises a new variable to zero\n",
        "for i in range(len(games2[0])):\n",
        "  print(games2[1][i]) #prints out name\n",
        "  total = total + games2[2][i] #adds score to a total\n",
        "print(total/6) #prints out average score"
      ],
      "metadata": {
        "id": "H340A-W7P4wB",
        "colab": {
          "base_uri": "https://localhost:8080/"
        },
        "outputId": "8f7eae05-a3ea-40ab-ce01-1b7073aa2d2a"
      },
      "execution_count": null,
      "outputs": [
        {
          "output_type": "stream",
          "name": "stdout",
          "text": [
            "Anna\n",
            "6\n",
            "Anna\n",
            "Kylo\n",
            "Darius\n",
            "Christian\n",
            "Ben\n",
            "Matthew\n",
            "268.8333333333333\n"
          ]
        }
      ]
    },
    {
      "cell_type": "markdown",
      "metadata": {
        "id": "RXGf4ctqPD0p"
      },
      "source": [
        "# Working with external files"
      ]
    },
    {
      "cell_type": "markdown",
      "metadata": {
        "id": "rH0lNSlYLcp_"
      },
      "source": [
        "##Working with files\n",
        "These can be found on the left in the content folder:\n",
        "\n",
        "\n",
        "\n",
        "\n",
        "![image.png](data:image/png;base64,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)"
      ]
    },
    {
      "cell_type": "code",
      "execution_count": null,
      "metadata": {
        "id": "Bc-cKObTLhKO"
      },
      "outputs": [],
      "source": [
        "f = open(\"test.txt\",\"a\") #the a parameter means it APPENDS data to the end of the file\n",
        "f.write(\"hello world\")\n",
        "f.close()"
      ]
    },
    {
      "cell_type": "code",
      "execution_count": null,
      "metadata": {
        "id": "wY6y-K2XOk8g"
      },
      "outputs": [],
      "source": [
        "f = open(\"test2.txt\",\"a\")\n",
        "f.write(\"hello world\\n\") #the \\n puts a new line in the string\n",
        "f.close()"
      ]
    },
    {
      "cell_type": "code",
      "source": [
        "f = open(\"test2.txt\",\"r\") # opens in read mode\n",
        "alldata  = f.readlines()\n",
        "print(alldata) # gets an an array of all lines in file\n",
        "for line in alldata:\n",
        "  #loops through each item of array\n",
        "  print(line)\n",
        "f.close() #always remember to close the file"
      ],
      "metadata": {
        "colab": {
          "base_uri": "https://localhost:8080/"
        },
        "id": "eIE3gSm6CXDV",
        "outputId": "3941210f-67b5-4ebf-ce8e-e6554d091f0a"
      },
      "execution_count": null,
      "outputs": [
        {
          "output_type": "stream",
          "name": "stdout",
          "text": [
            "['hello world\\n', 'hello world\\n', 'hello world\\n', 'hello world\\n', 'hello world\\n']\n",
            "hello world\n",
            "\n",
            "hello world\n",
            "\n",
            "hello world\n",
            "\n",
            "hello world\n",
            "\n",
            "hello world\n",
            "\n"
          ]
        }
      ]
    },
    {
      "cell_type": "code",
      "source": [
        "f = open(\"test2.txt\",\"r\") # opens in read mode\n",
        "alldata  = f.read().splitlines()\n",
        "print(alldata) # gets an an array of all lines in file\n",
        "for line in alldata:\n",
        "  #loops through each item of array\n",
        "  print(line)\n",
        "f.close() #always remember to close the file"
      ],
      "metadata": {
        "colab": {
          "base_uri": "https://localhost:8080/"
        },
        "id": "iWYFK-AKDFQ4",
        "outputId": "3a3442c5-9eb4-4544-81fd-10fb7558c150"
      },
      "execution_count": null,
      "outputs": [
        {
          "output_type": "stream",
          "name": "stdout",
          "text": [
            "['hello world', 'hello world', 'hello world', 'hello world', 'hello world']\n",
            "hello world\n",
            "hello world\n",
            "hello world\n",
            "hello world\n",
            "hello world\n"
          ]
        }
      ]
    },
    {
      "cell_type": "markdown",
      "source": [],
      "metadata": {
        "id": "w06xnOwBCW6L"
      }
    },
    {
      "cell_type": "code",
      "execution_count": null,
      "metadata": {
        "id": "c7pZFQQXW3uB",
        "colab": {
          "base_uri": "https://localhost:8080/"
        },
        "outputId": "771c7d66-3475-40ea-9009-ab1f22fc19ed"
      },
      "outputs": [
        {
          "output_type": "stream",
          "name": "stdout",
          "text": [
            "/content\n",
            "['.config', 'test2.txt', 'test.txt', 'sample_data']\n",
            ".config\n",
            "test2.txt\n",
            "test.txt\n",
            "sample_data\n"
          ]
        }
      ],
      "source": [
        "import os \n",
        "print( os.getcwd()) #gets current working directory\n",
        "directory = os.listdir(os.getcwd())\n",
        "print(directory) #prints whole list of files and dirs\n",
        "#loop through list and print out\n",
        "for f in directory:\n",
        "  print(f)"
      ]
    },
    {
      "cell_type": "markdown",
      "source": [
        "# A Level\n",
        "Useful stuff"
      ],
      "metadata": {
        "id": "G3AGrADqAeL_"
      }
    },
    {
      "cell_type": "markdown",
      "source": [
        "The try block lets you test a block of code for errors.\n",
        "\n",
        "The except block lets you handle the error.\n",
        "\n",
        "The else block lets you execute code when there is no error.\n",
        "\n",
        "The finally block lets you execute code, regardless of the result of the try- and except blocks."
      ],
      "metadata": {
        "id": "-wEhSwMZD-Bb"
      }
    },
    {
      "cell_type": "code",
      "source": [
        "try:\n",
        "  print(X)\n",
        "except NameError:\n",
        "  print(\"Variable X is not defined\")\n",
        "except:\n",
        "  print(\"Something else went wrong\")"
      ],
      "metadata": {
        "colab": {
          "base_uri": "https://localhost:8080/"
        },
        "id": "w8GfVe8ZD_PD",
        "outputId": "7fcd725f-65c9-400a-8a62-863e1e900424"
      },
      "execution_count": null,
      "outputs": [
        {
          "output_type": "stream",
          "name": "stdout",
          "text": [
            "Variable X is not defined\n"
          ]
        }
      ]
    },
    {
      "cell_type": "markdown",
      "source": [
        "You can assign multiple variables at once - this is called **unpacking**"
      ],
      "metadata": {
        "id": "v6OCP2bsA5No"
      }
    },
    {
      "cell_type": "code",
      "source": [
        "a,b=(100,200)\n",
        "print(a)\n",
        "print(b)\n",
        "\n",
        "x,y,z = 0,0,0\n",
        "print(x,y,z)"
      ],
      "metadata": {
        "colab": {
          "base_uri": "https://localhost:8080/"
        },
        "id": "f_9B3dHjAj1X",
        "outputId": "6394702f-916d-4f2f-dbae-d80590098c28"
      },
      "execution_count": null,
      "outputs": [
        {
          "output_type": "stream",
          "name": "stdout",
          "text": [
            "100\n",
            "200\n",
            "0 0 0\n"
          ]
        }
      ]
    },
    {
      "cell_type": "markdown",
      "source": [
        "# list function\n",
        "This will take a string (and other things...) and return a list of characters"
      ],
      "metadata": {
        "id": "etHJFvAACgYh"
      }
    },
    {
      "cell_type": "code",
      "source": [
        "myword = \"Magenta\"\n",
        "print(list(myword))"
      ],
      "metadata": {
        "colab": {
          "base_uri": "https://localhost:8080/"
        },
        "id": "hqWDaVMSFaqQ",
        "outputId": "0b3784da-7d5a-45cb-d713-b758c516da27"
      },
      "execution_count": null,
      "outputs": [
        {
          "output_type": "stream",
          "name": "stdout",
          "text": [
            "['M', 'a', 'g', 'e', 'n', 't', 'a']\n"
          ]
        }
      ]
    },
    {
      "cell_type": "markdown",
      "source": [
        "# join function\n",
        "This is a useful function for concatentating an array into a string without needing to do a big loop"
      ],
      "metadata": {
        "id": "wNjjpo_PCiTh"
      }
    },
    {
      "cell_type": "code",
      "source": [
        "mylist = [\"H\",\"o\",\"l\",\"i\",\"d\",\"a\",\"y\"]\n",
        "stucktogether1 = \"\".join(mylist)\n",
        "print(stucktogether1)\n",
        "stucktogether2 = \"-\".join(mylist)\n",
        "print(stucktogether2)"
      ],
      "metadata": {
        "colab": {
          "base_uri": "https://localhost:8080/"
        },
        "id": "faYj2ZsYClOX",
        "outputId": "5a8365ab-b96d-4917-d971-7d96957b2551"
      },
      "execution_count": null,
      "outputs": [
        {
          "output_type": "stream",
          "name": "stdout",
          "text": [
            "Holiday\n",
            "H-o-l-i-d-a-y\n"
          ]
        }
      ]
    },
    {
      "cell_type": "markdown",
      "source": [
        "# Sets\n",
        "Set are unordered and immutable - however you can add/remove things from a set.\n",
        "No duplicates are allowed in sets"
      ],
      "metadata": {
        "id": "uQnZ12TVClj0"
      }
    },
    {
      "cell_type": "code",
      "source": [
        "thisset = {\"apple\", \"banana\", \"cherry\", \"apple\"}\n",
        "print(thisset)"
      ],
      "metadata": {
        "colab": {
          "base_uri": "https://localhost:8080/"
        },
        "id": "peN-IHdOEstH",
        "outputId": "42624a11-3ab8-4681-ef4a-5f1c0cfd86cf"
      },
      "execution_count": null,
      "outputs": [
        {
          "output_type": "stream",
          "name": "stdout",
          "text": [
            "{'banana', 'cherry', 'apple'}\n"
          ]
        }
      ]
    },
    {
      "cell_type": "markdown",
      "source": [
        "# Dictionaries"
      ],
      "metadata": {
        "id": "2Cq86H-yCon4"
      }
    },
    {
      "cell_type": "markdown",
      "source": [],
      "metadata": {
        "id": "w8Cbb8D7Cqhn"
      }
    },
    {
      "cell_type": "code",
      "source": [
        "x = ['apple', 'banana', 'cherry']\n",
        "y = enumerate(x)\n",
        "\n",
        "#print(list(y))\n",
        "\n",
        "for i,j in list(y):\n",
        "  print(i)\n",
        "  print(j)"
      ],
      "metadata": {
        "colab": {
          "base_uri": "https://localhost:8080/"
        },
        "id": "TdS9UxAwBOjG",
        "outputId": "1e393584-96bb-43c7-8255-4773f83d2b3e"
      },
      "execution_count": null,
      "outputs": [
        {
          "output_type": "stream",
          "name": "stdout",
          "text": [
            "0\n",
            "apple\n",
            "1\n",
            "banana\n",
            "2\n",
            "cherry\n"
          ]
        }
      ]
    },
    {
      "cell_type": "markdown",
      "source": [
        "list comprehension"
      ],
      "metadata": {
        "id": "-LBLRD-mCrgR"
      }
    }
  ],
  "metadata": {
    "colab": {
      "provenance": [],
      "include_colab_link": true
    },
    "kernelspec": {
      "display_name": "Python 3",
      "language": "python",
      "name": "python3"
    },
    "language_info": {
      "codemirror_mode": {
        "name": "ipython",
        "version": 3
      },
      "file_extension": ".py",
      "mimetype": "text/x-python",
      "name": "python",
      "nbconvert_exporter": "python",
      "pygments_lexer": "ipython3",
      "version": "3.8.1"
    }
  },
  "nbformat": 4,
  "nbformat_minor": 0
}